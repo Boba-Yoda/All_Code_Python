import tkinter as tk

order = []
def on_button_click(row, col):
    print(f"Button {row},{col} clicked!")
    order.append(f"Button {row},{col} clicked!")
    
    temp = ""
    for eachButtonPress in order: 
        temp += eachButtonPress
        temp += "\n"
    label1.configure(text=temp) 

# Create the main window
root = tk.Tk()
root.title("4x3 Grid Interface")

# Create a frame for the grid
grid_frame = tk.Frame(root)
grid_frame.pack(pady=10)

# Create a 3x3 grid of buttons
buttons = []
for row in range(4):
    button_row = []
    for col in range(3):
        button = tk.Button(grid_frame, text=f"{row},{col}", width=15, height=3,
                command=lambda r=row, c=col: on_button_click(r, c))
        button.grid(row=row, column=col, padx=5, pady=5)
        button_row.append(button)
    buttons.append(button_row)

# Create two non-writable fields
info_frame = tk.Frame(root)
info_frame.pack(pady=10)

label1 = tk.Label(info_frame, text="Field 1: Non-writable", relief="sunken",
width=30, anchor="w")
label1.pack(pady=5)

label2 = tk.Label(info_frame, text="Field 2: Non-writable", relief="sunken",
width=30, anchor="w")
label2.pack(pady=5)

label3 = tk.Label(info_frame, text="Field 3: Non-writable", relief="sunken",
width=30, anchor="w")
label3.pack(pady=5)


buttons[0][0].config(text="Chicken Sandwich")
buttons[0][1].config(text="Beef Sandwich")
buttons[0][2].config(text="Tofu Sandwich")
buttons[1][0].config(text="Small Drink")
buttons[1][1].config(text="Medium Drink")
buttons[1][2].config(text="Large Drink")
buttons[2][0].config(text="Small Fries")
buttons[2][1].config(text="Medium Fries")
buttons[2][2].config(text="Large Fries")
buttons[3][0].config(text="Ketchup Packets")
buttons[3][1].config(text="Clear Order")
buttons[3][2].config(text="Place Order")


# Run the application
root.mainloop() 
